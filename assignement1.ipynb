{
 "cells": [
  {
   "cell_type": "code",
   "execution_count": 1,
   "metadata": {},
   "outputs": [],
   "source": [
    "import numpy as np"
   ]
  },
  {
   "cell_type": "code",
   "execution_count": 2,
   "metadata": {},
   "outputs": [],
   "source": [
    "#Q1:\n",
    "#sigmoid function\n",
    "\n",
    "def sigmoid(x, b=False):\n",
    "    #\n",
    "    if  b == True:\n",
    "        return x * (1 - x)\n",
    "    \n",
    "    return 1.0 / (1 + (np.exp(-x)))"
   ]
  },
  {
   "cell_type": "code",
   "execution_count": 3,
   "metadata": {},
   "outputs": [],
   "source": [
    "#Q2:\n",
    "#img2vector\n",
    "def image2vector(img):\n",
    "    return img.reshape(img.shape[0]*img.shape[1]*img.shape[2],1)"
   ]
  },
  {
   "cell_type": "code",
   "execution_count": 4,
   "metadata": {},
   "outputs": [],
   "source": [
    "#Q3:\n",
    "#Normalize function\n",
    "def normalizeRows(x):\n",
    "    return  x / np.linalg.norm(x, axis = 1, keepdims = True)"
   ]
  },
  {
   "cell_type": "code",
   "execution_count": null,
   "metadata": {},
   "outputs": [],
   "source": [
    "#Q4:\n",
    "#l1 loss function\n",
    "def loseFunc1(predict, truth):\n",
    "   \n",
    "    return sum(abs(truth - predict))"
   ]
  }
 ],
 "metadata": {
  "kernelspec": {
   "display_name": "Python 3",
   "language": "python",
   "name": "python3"
  },
  "language_info": {
   "codemirror_mode": {
    "name": "ipython",
    "version": 3
   },
   "file_extension": ".py",
   "mimetype": "text/x-python",
   "name": "python",
   "nbconvert_exporter": "python",
   "pygments_lexer": "ipython3",
   "version": "3.6.3"
  }
 },
 "nbformat": 4,
 "nbformat_minor": 2
}
